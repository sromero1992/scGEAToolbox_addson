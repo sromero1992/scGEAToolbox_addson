{
 "cells": [
  {
   "cell_type": "code",
   "execution_count": 18,
   "id": "53023c51",
   "metadata": {},
   "outputs": [
    {
     "ename": "TypeError",
     "evalue": "'<' not supported between instances of 'QuantumCircuit' and 'int'",
     "output_type": "error",
     "traceback": [
      "\u001b[1;31m---------------------------------------------------------------------------\u001b[0m",
      "\u001b[1;31mTypeError\u001b[0m                                 Traceback (most recent call last)",
      "\u001b[1;32m~\\AppData\\Local\\Temp\\ipykernel_7036\\2675117966.py\u001b[0m in \u001b[0;36m<module>\u001b[1;34m\u001b[0m\n\u001b[0;32m     42\u001b[0m \u001b[1;33m\u001b[0m\u001b[0m\n\u001b[0;32m     43\u001b[0m \u001b[1;31m# Define QNN\u001b[0m\u001b[1;33m\u001b[0m\u001b[1;33m\u001b[0m\u001b[0m\n\u001b[1;32m---> 44\u001b[1;33m \u001b[0mqnn\u001b[0m \u001b[1;33m=\u001b[0m \u001b[0mVQC\u001b[0m\u001b[1;33m(\u001b[0m\u001b[0mansatz\u001b[0m\u001b[1;33m)\u001b[0m\u001b[1;33m\u001b[0m\u001b[1;33m\u001b[0m\u001b[0m\n\u001b[0m\u001b[0;32m     45\u001b[0m \u001b[1;33m\u001b[0m\u001b[0m\n\u001b[0;32m     46\u001b[0m \u001b[1;31m# Define optimizer and loss function\u001b[0m\u001b[1;33m\u001b[0m\u001b[1;33m\u001b[0m\u001b[0m\n",
      "\u001b[1;32m~\\AppData\\Roaming\\Python\\Python39\\site-packages\\qiskit_machine_learning\\algorithms\\classifiers\\vqc.py\u001b[0m in \u001b[0;36m__init__\u001b[1;34m(self, num_qubits, feature_map, ansatz, loss, optimizer, warm_start, initial_point, callback, sampler)\u001b[0m\n\u001b[0;32m     94\u001b[0m         \"\"\"\n\u001b[0;32m     95\u001b[0m \u001b[1;33m\u001b[0m\u001b[0m\n\u001b[1;32m---> 96\u001b[1;33m         num_qubits, feature_map, ansatz = derive_num_qubits_feature_map_ansatz(\n\u001b[0m\u001b[0;32m     97\u001b[0m             \u001b[0mnum_qubits\u001b[0m\u001b[1;33m,\u001b[0m \u001b[0mfeature_map\u001b[0m\u001b[1;33m,\u001b[0m \u001b[0mansatz\u001b[0m\u001b[1;33m\u001b[0m\u001b[1;33m\u001b[0m\u001b[0m\n\u001b[0;32m     98\u001b[0m         )\n",
      "\u001b[1;32m~\\AppData\\Roaming\\Python\\Python39\\site-packages\\qiskit_machine_learning\\utils\\adjust_num_qubits.py\u001b[0m in \u001b[0;36mderive_num_qubits_feature_map_ansatz\u001b[1;34m(num_qubits, feature_map, ansatz)\u001b[0m\n\u001b[0;32m     68\u001b[0m                 \u001b[0m_adjust_num_qubits\u001b[0m\u001b[1;33m(\u001b[0m\u001b[0mfeature_map\u001b[0m\u001b[1;33m,\u001b[0m \u001b[1;34m\"feature map\"\u001b[0m\u001b[1;33m,\u001b[0m \u001b[0mnum_qubits\u001b[0m\u001b[1;33m)\u001b[0m\u001b[1;33m\u001b[0m\u001b[1;33m\u001b[0m\u001b[0m\n\u001b[0;32m     69\u001b[0m         \u001b[1;32melse\u001b[0m\u001b[1;33m:\u001b[0m\u001b[1;33m\u001b[0m\u001b[1;33m\u001b[0m\u001b[0m\n\u001b[1;32m---> 70\u001b[1;33m             \u001b[0mfeature_map\u001b[0m \u001b[1;33m=\u001b[0m \u001b[0mZFeatureMap\u001b[0m\u001b[1;33m(\u001b[0m\u001b[0mnum_qubits\u001b[0m\u001b[1;33m)\u001b[0m \u001b[1;32mif\u001b[0m \u001b[0mnum_qubits\u001b[0m \u001b[1;33m==\u001b[0m \u001b[1;36m1\u001b[0m \u001b[1;32melse\u001b[0m \u001b[0mZZFeatureMap\u001b[0m\u001b[1;33m(\u001b[0m\u001b[0mnum_qubits\u001b[0m\u001b[1;33m)\u001b[0m\u001b[1;33m\u001b[0m\u001b[1;33m\u001b[0m\u001b[0m\n\u001b[0m\u001b[0;32m     71\u001b[0m         \u001b[1;32mif\u001b[0m \u001b[0mansatz\u001b[0m \u001b[1;32mis\u001b[0m \u001b[1;32mnot\u001b[0m \u001b[1;32mNone\u001b[0m\u001b[1;33m:\u001b[0m\u001b[1;33m\u001b[0m\u001b[1;33m\u001b[0m\u001b[0m\n\u001b[0;32m     72\u001b[0m             \u001b[1;32mif\u001b[0m \u001b[0mansatz\u001b[0m\u001b[1;33m.\u001b[0m\u001b[0mnum_qubits\u001b[0m \u001b[1;33m!=\u001b[0m \u001b[0mnum_qubits\u001b[0m\u001b[1;33m:\u001b[0m\u001b[1;33m\u001b[0m\u001b[1;33m\u001b[0m\u001b[0m\n",
      "\u001b[1;32m~\\AppData\\Roaming\\Python\\Python39\\site-packages\\qiskit\\circuit\\library\\data_preparation\\zz_feature_map.py\u001b[0m in \u001b[0;36m__init__\u001b[1;34m(self, feature_dimension, reps, entanglement, data_map_func, parameter_prefix, insert_barriers, name)\u001b[0m\n\u001b[0;32m     97\u001b[0m             \u001b[0mValueError\u001b[0m\u001b[1;33m:\u001b[0m \u001b[0mIf\u001b[0m \u001b[0mthe\u001b[0m \u001b[0mfeature\u001b[0m \u001b[0mdimension\u001b[0m \u001b[1;32mis\u001b[0m \u001b[0msmaller\u001b[0m \u001b[0mthan\u001b[0m \u001b[1;36m2.\u001b[0m\u001b[1;33m\u001b[0m\u001b[1;33m\u001b[0m\u001b[0m\n\u001b[0;32m     98\u001b[0m         \"\"\"\n\u001b[1;32m---> 99\u001b[1;33m         \u001b[1;32mif\u001b[0m \u001b[0mfeature_dimension\u001b[0m \u001b[1;33m<\u001b[0m \u001b[1;36m2\u001b[0m\u001b[1;33m:\u001b[0m\u001b[1;33m\u001b[0m\u001b[1;33m\u001b[0m\u001b[0m\n\u001b[0m\u001b[0;32m    100\u001b[0m             raise ValueError(\n\u001b[0;32m    101\u001b[0m                 \u001b[1;34m\"The ZZFeatureMap contains 2-local interactions and cannot be \"\u001b[0m\u001b[1;33m\u001b[0m\u001b[1;33m\u001b[0m\u001b[0m\n",
      "\u001b[1;31mTypeError\u001b[0m: '<' not supported between instances of 'QuantumCircuit' and 'int'"
     ]
    }
   ],
   "source": [
    "from qiskit import QuantumCircuit, Aer\n",
    "from qiskit.circuit.library import RealAmplitudes\n",
    "from qiskit_machine_learning.algorithms import VQC\n",
    "from qiskit_machine_learning.utils import loss_functions\n",
    "\n",
    "# Import classical libraries\n",
    "import numpy as np\n",
    "\n",
    "# Generate random data\n",
    "X = np.random.rand(100, 2)\n",
    "y = np.random.randint(2, size=100)\n",
    "\n",
    "def feature_encoding_circuit(num_qubits, data):\n",
    "    \"\"\"\n",
    "    Custom circuit to encode data onto qubits.\n",
    "\n",
    "    Args:\n",
    "        num_qubits: Number of qubits.\n",
    "        data: Data to be encoded.\n",
    "\n",
    "    Returns:\n",
    "        QuantumCircuit: Feature encoding circuit.\n",
    "    \"\"\"\n",
    "    circuit = QuantumCircuit(num_qubits)\n",
    "\n",
    "    # Apply rotations based on data values\n",
    "    for i in range(num_qubits):\n",
    "        for j in range(data.shape[1]):\n",
    "            angle = 2 * np.pi * data[i][j]\n",
    "            circuit.ry(angle, i)\n",
    "\n",
    "    return circuit\n",
    "\n",
    "# Define feature encoding circuit\n",
    "data_encoding_circuit = feature_encoding_circuit(2, X)\n",
    "\n",
    "# Define ansatz circuit\n",
    "num_qubits = 2\n",
    "ansatz = QuantumCircuit(num_qubits)\n",
    "ansatz.append(data_encoding_circuit, range(num_qubits))\n",
    "ansatz.append(RealAmplitudes(num_qubits), range(num_qubits))\n",
    "\n",
    "# Define QNN\n",
    "qnn = VQC(ansatz)\n",
    "\n",
    "# Define optimizer and loss function\n",
    "optimizer = COBYLA(maxiter=1000)\n",
    "loss = loss_functions.LogLoss()\n",
    "\n",
    "# Train the QNN\n",
    "vqc = qnn.fit(X, y, optimizer=optimizer, loss=loss)\n",
    "\n",
    "# Predict labels for new data\n",
    "new_data = np.random.rand(10, 2)\n",
    "predictions = vqc.predict(new_data)\n",
    "\n",
    "\n",
    "# Compute accuracy\n",
    "accuracy = np.mean(predictions == y)\n",
    "print(\"Accuracy:\", accuracy)\n"
   ]
  },
  {
   "cell_type": "code",
   "execution_count": null,
   "id": "2a3e21b1",
   "metadata": {},
   "outputs": [],
   "source": []
  }
 ],
 "metadata": {
  "kernelspec": {
   "display_name": "Python 3 (ipykernel)",
   "language": "python",
   "name": "python3"
  },
  "language_info": {
   "codemirror_mode": {
    "name": "ipython",
    "version": 3
   },
   "file_extension": ".py",
   "mimetype": "text/x-python",
   "name": "python",
   "nbconvert_exporter": "python",
   "pygments_lexer": "ipython3",
   "version": "3.9.13"
  }
 },
 "nbformat": 4,
 "nbformat_minor": 5
}
