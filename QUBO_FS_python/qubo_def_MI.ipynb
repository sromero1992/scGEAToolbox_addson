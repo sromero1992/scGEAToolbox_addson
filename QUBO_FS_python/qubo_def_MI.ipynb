{
 "cells": [
  {
   "cell_type": "code",
   "execution_count": 73,
   "metadata": {},
   "outputs": [],
   "source": [
    "import numpy as np\n",
    "from scipy.stats import entropy\n",
    "from scipy.sparse import issparse\n",
    "from joblib import Parallel, delayed\n",
    "\n",
    "def mutual_information_matrix_serial(matrix, nbins=20, n_jobs=-1):\n",
    "    \"\"\"\n",
    "    Computes the mutual information matrix in parallel, working directly with sparse matrices,\n",
    "    and only computes the upper triangular part of the matrix.\n",
    "    \"\"\"\n",
    "    if not issparse(matrix):\n",
    "        matrix = matrix.tocsr()\n",
    "\n",
    "    n_features = matrix.shape[0]\n",
    "    mi_matrix = np.zeros((n_features, n_features))\n",
    "\n",
    "    def compute_pairwise_mi(vi, vj, nbins=20):\n",
    "        joint_counts, _, _ = np.histogram2d(vi, vj, bins=nbins)\n",
    "        if joint_counts.sum() == 0:\n",
    "            return 0  # No mutual information if no overlap\n",
    "        joint_prob = joint_counts / (joint_counts.sum() + 1e-8)\n",
    "\n",
    "        marginal_i = joint_prob.sum(axis=1) + 1e-8\n",
    "        marginal_j = joint_prob.sum(axis=0) + 1e-8\n",
    "\n",
    "        h_xy = entropy(joint_prob.flatten(), base=2)\n",
    "        h_x = entropy(marginal_i, base=2)\n",
    "        h_y = entropy(marginal_j, base=2)\n",
    "\n",
    "        return float(h_x + h_y - h_xy)\n",
    "\n",
    "    for i in range(n_features):\n",
    "        for j in range(i, n_features):\n",
    "            vi = matrix[i, :].toarray().flatten() if issparse(matrix) else matrix[i, :]\n",
    "            vj = matrix[j, :].toarray().flatten() if issparse(matrix) else matrix[j, :]\n",
    "            mi_matrix[i, j] = compute_pairwise_mi(vi, vj, nbins=nbins)\n",
    "            if i != j:\n",
    "                mi_matrix[j, i] = mi_matrix[i, j]  # Exploit symmetry\n",
    "    return mi_matrix\n"
   ]
  },
  {
   "cell_type": "code",
   "execution_count": 74,
   "metadata": {},
   "outputs": [
    {
     "data": {
      "text/plain": [
       "(1000, 5000)"
      ]
     },
     "execution_count": 74,
     "metadata": {},
     "output_type": "execute_result"
    }
   ],
   "source": [
    "from scipy.sparse import random as sparse_random\n",
    "\n",
    "# Generate a sparse random matrix with 1000 rows and 5000 columns\n",
    "# Density of the matrix is set to 0.01 (1% non-zero elements)\n",
    "sparse_matrix = sparse_random(1000, 5000, density=0.01, format='csr')\n",
    "\n",
    "# Checking the matrix shape\n",
    "sparse_matrix.shape\n",
    "\n"
   ]
  },
  {
   "cell_type": "code",
   "execution_count": 75,
   "metadata": {},
   "outputs": [
    {
     "name": "stdout",
     "output_type": "stream",
     "text": [
      "[[1.18864891e-01 1.65955874e-03 1.82754875e-03 ... 1.61457335e-03\n",
      "  2.09605944e-03 1.12979878e-04]\n",
      " [1.65955874e-03 1.53868497e-01 1.31313465e-03 ... 1.49256285e-03\n",
      "  2.08846836e-04 1.50906120e-04]\n",
      " [1.82754875e-03 1.31313465e-03 1.10537815e-01 ... 1.38830081e-04\n",
      "  1.47057364e-04 1.06787749e-04]\n",
      " ...\n",
      " [1.61457335e-03 1.49256285e-03 1.38830081e-04 ... 1.20657407e-01\n",
      "  1.52829678e-03 1.43565108e-03]\n",
      " [2.09605944e-03 2.08846836e-04 1.47057364e-04 ... 1.52829678e-03\n",
      "  1.25980561e-01 1.22160248e-04]\n",
      " [1.12979878e-04 1.50906120e-04 1.06787749e-04 ... 1.43565108e-03\n",
      "  1.22160248e-04 9.29633178e-02]]\n"
     ]
    }
   ],
   "source": [
    "#from scipy.sparse import random as sparse_random\n",
    "#sparse_matrix = sparse_random(100, 1000, density=0.01, format='csr')  # Example sparse matrix\n",
    "mi_matrix = mutual_information_matrix_serial(sparse_matrix, nbins=20, n_jobs=-1)\n",
    "print(mi_matrix)\n"
   ]
  },
  {
   "cell_type": "code",
   "execution_count": 76,
   "metadata": {},
   "outputs": [],
   "source": [
    "from scipy.sparse import issparse\n",
    "from scipy.stats import entropy\n",
    "import numpy as np\n",
    "from joblib import Parallel, delayed\n",
    "\n",
    "def mutual_information_matrix_parallel(matrix, nbins=20, n_jobs=-1):\n",
    "    \"\"\"\n",
    "    Computes the mutual information matrix in parallel, working directly with sparse matrices,\n",
    "    and only computes the upper triangular part of the matrix.\n",
    "    \"\"\"\n",
    "    if not issparse(matrix):\n",
    "        matrix = matrix.tocsr()\n",
    "\n",
    "    n_features = matrix.shape[0]\n",
    "    mi_matrix = np.zeros((n_features, n_features))\n",
    "\n",
    "    def compute_pairwise_mi(i, j, matrix, nbins=20):\n",
    "        \"\"\"\n",
    "        Computes mutual information between row i and row j of the sparse matrix.\n",
    "        \"\"\"\n",
    "        vi = matrix[i, :].toarray().flatten() if issparse(matrix) else matrix[i, :]\n",
    "        vj = matrix[j, :].toarray().flatten() if issparse(matrix) else matrix[j, :]\n",
    "        \n",
    "        joint_counts, _, _ = np.histogram2d(vi, vj, bins=nbins)\n",
    "        if joint_counts.sum() == 0:\n",
    "            return 0  # No mutual information if no overlap\n",
    "        joint_prob = joint_counts / (joint_counts.sum() + 1e-8)\n",
    "\n",
    "        marginal_i = joint_prob.sum(axis=1) + 1e-8\n",
    "        marginal_j = joint_prob.sum(axis=0) + 1e-8\n",
    "\n",
    "        h_xy = entropy(joint_prob.flatten(), base=2)\n",
    "        h_x = entropy(marginal_i, base=2)\n",
    "        h_y = entropy(marginal_j, base=2)\n",
    "\n",
    "        return float(h_x + h_y - h_xy)\n",
    "\n",
    "    # Parallelizing the pairwise mutual information computation for the upper triangular matrix\n",
    "    jobs = [(i, j) for i in range(n_features) for j in range(i + 1, n_features)]\n",
    "    results = Parallel(n_jobs=n_jobs)(\n",
    "        delayed(compute_pairwise_mi)(i, j, matrix, nbins) for i, j in jobs\n",
    "    )\n",
    "\n",
    "    # Fill the upper triangular matrix with the results\n",
    "    for idx, (i, j) in enumerate(jobs):\n",
    "        mi_matrix[i, j] = results[idx]\n",
    "        mi_matrix[j, i] = results[idx]  # Exploit symmetry to avoid duplicate computation\n",
    "\n",
    "    return mi_matrix\n"
   ]
  },
  {
   "cell_type": "code",
   "execution_count": 77,
   "metadata": {},
   "outputs": [
    {
     "name": "stdout",
     "output_type": "stream",
     "text": [
      "[[0.         0.00165956 0.00182755 ... 0.00161457 0.00209606 0.00011298]\n",
      " [0.00165956 0.         0.00131313 ... 0.00149256 0.00020885 0.00015091]\n",
      " [0.00182755 0.00131313 0.         ... 0.00013883 0.00014706 0.00010679]\n",
      " ...\n",
      " [0.00161457 0.00149256 0.00013883 ... 0.         0.0015283  0.00143565]\n",
      " [0.00209606 0.00020885 0.00014706 ... 0.0015283  0.         0.00012216]\n",
      " [0.00011298 0.00015091 0.00010679 ... 0.00143565 0.00012216 0.        ]]\n"
     ]
    }
   ],
   "source": [
    "#from scipy.sparse import random as sparse_random\n",
    "mi_matrix = mutual_information_matrix_parallel(sparse_matrix, nbins=20, n_jobs=-1)\n",
    "print(mi_matrix)\n"
   ]
  },
  {
   "cell_type": "code",
   "execution_count": 102,
   "metadata": {},
   "outputs": [
    {
     "ename": "ValueError",
     "evalue": "Buffer dtype mismatch, expected 'float' but got 'double'",
     "output_type": "error",
     "traceback": [
      "\u001b[1;31m---------------------------------------------------------------------------\u001b[0m",
      "\u001b[1;31mValueError\u001b[0m                                Traceback (most recent call last)",
      "Cell \u001b[1;32mIn[102], line 3\u001b[0m\n\u001b[0;32m      1\u001b[0m \u001b[38;5;28;01mimport\u001b[39;00m \u001b[38;5;21;01mmutual_information_serial\u001b[39;00m \u001b[38;5;28;01mas\u001b[39;00m \u001b[38;5;21;01mmis\u001b[39;00m\n\u001b[0;32m      2\u001b[0m \u001b[38;5;66;03m# Test the function\u001b[39;00m\n\u001b[1;32m----> 3\u001b[0m mi_matrix \u001b[38;5;241m=\u001b[39m \u001b[43mmis\u001b[49m\u001b[38;5;241;43m.\u001b[39;49m\u001b[43mmutual_information_matrix_cython\u001b[49m\u001b[43m(\u001b[49m\u001b[43msparse_matrix\u001b[49m\u001b[43m,\u001b[49m\u001b[43m \u001b[49m\u001b[43mnbins\u001b[49m\u001b[38;5;241;43m=\u001b[39;49m\u001b[38;5;241;43m20\u001b[39;49m\u001b[43m)\u001b[49m\n\u001b[0;32m      4\u001b[0m \u001b[38;5;28mprint\u001b[39m(mi_matrix)\n",
      "File \u001b[1;32mc:\\Users\\ssromerogon\\Documents\\vscode_working_dir\\QUBO_FS_python\\mutual_information_serial.pyx:43\u001b[0m, in \u001b[0;36mmutual_information_serial.mutual_information_matrix_cython\u001b[1;34m()\u001b[0m\n\u001b[0;32m     41\u001b[0m for i in range(n_features):\n\u001b[0;32m     42\u001b[0m     for j in range(i + 1, n_features):  # Start from i + 1 to avoid i == j\n\u001b[1;32m---> 43\u001b[0m         mi_matrix[i, j] = compute_pairwise_mi(matrix, i, j, nbins)\n\u001b[0;32m     44\u001b[0m         mi_matrix[j, i] = mi_matrix[i, j]  # Exploit symmetry\n\u001b[0;32m     45\u001b[0m \n",
      "File \u001b[1;32mc:\\Users\\ssromerogon\\Documents\\vscode_working_dir\\QUBO_FS_python\\mutual_information_serial.pyx:11\u001b[0m, in \u001b[0;36mmutual_information_serial.compute_pairwise_mi\u001b[1;34m()\u001b[0m\n\u001b[0;32m      9\u001b[0m cdef np.ndarray[float, ndim=2] joint_counts\n\u001b[0;32m     10\u001b[0m cdef float joint_prob, h_xy, h_x, h_y\n\u001b[1;32m---> 11\u001b[0m vi = matrix.getrow(i).toarray().flatten()\n\u001b[0;32m     12\u001b[0m vj = matrix.getrow(j).toarray().flatten()\n\u001b[0;32m     13\u001b[0m \n",
      "\u001b[1;31mValueError\u001b[0m: Buffer dtype mismatch, expected 'float' but got 'double'"
     ]
    }
   ],
   "source": [
    "import mutual_information_serial as mis\n",
    "# Test the function\n",
    "mi_matrix = mis.mutual_information_matrix_cython(sparse_matrix, nbins=20)\n",
    "print(mi_matrix)\n",
    "\n"
   ]
  },
  {
   "cell_type": "code",
   "execution_count": null,
   "metadata": {},
   "outputs": [],
   "source": []
  },
  {
   "cell_type": "code",
   "execution_count": null,
   "metadata": {},
   "outputs": [],
   "source": []
  }
 ],
 "metadata": {
  "kernelspec": {
   "display_name": "qiskit-env",
   "language": "python",
   "name": "python3"
  },
  "language_info": {
   "codemirror_mode": {
    "name": "ipython",
    "version": 3
   },
   "file_extension": ".py",
   "mimetype": "text/x-python",
   "name": "python",
   "nbconvert_exporter": "python",
   "pygments_lexer": "ipython3",
   "version": "3.11.11"
  }
 },
 "nbformat": 4,
 "nbformat_minor": 2
}
