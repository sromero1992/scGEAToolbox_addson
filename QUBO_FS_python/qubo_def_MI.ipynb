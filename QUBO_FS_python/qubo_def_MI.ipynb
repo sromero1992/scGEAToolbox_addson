{
 "cells": [
  {
   "cell_type": "code",
   "execution_count": null,
   "metadata": {},
   "outputs": [],
   "source": [
    "import numpy as np\n",
    "from scipy.stats import entropy\n",
    "from scipy.sparse import issparse\n",
    "from joblib import Parallel, delayed\n",
    "from scipy.sparse import csr_matrix\n",
    "mi_matrix_sparse = csr_matrix(mi_matrix)\n",
    "\n",
    "def mutual_information_matrix_serial(matrix, nbins=20, n_jobs=-1):\n",
    "    \"\"\"\n",
    "    Computes the mutual information matrix in parallel, working directly with sparse matrices,\n",
    "    and only computes the upper triangular part of the matrix.\n",
    "    \"\"\"\n",
    "    if not issparse(matrix):\n",
    "        matrix = csr_matrix(matrix)\n",
    "\n",
    "    n_features = matrix.shape[0]\n",
    "    mi_matrix = np.zeros((n_features, n_features))\n",
    "\n",
    "    def compute_pairwise_mi(vi, vj, nbins=20):\n",
    "        joint_counts, _, _ = np.histogram2d(vi, vj, bins=nbins)\n",
    "        if joint_counts.sum() == 0:\n",
    "            return 0  # No mutual information if no overlap\n",
    "        joint_prob = joint_counts / (joint_counts.sum() + 1e-8)\n",
    "\n",
    "        marginal_i = joint_prob.sum(axis=1) + 1e-8\n",
    "        marginal_j = joint_prob.sum(axis=0) + 1e-8\n",
    "\n",
    "        h_xy = entropy(joint_prob.flatten(), base=2)\n",
    "        h_x = entropy(marginal_i, base=2)\n",
    "        h_y = entropy(marginal_j, base=2)\n",
    "\n",
    "        return float(h_x + h_y - h_xy)\n",
    "\n",
    "    for i in range(n_features):\n",
    "        for j in range(i, n_features):\n",
    "            vi = matrix[i, :].toarray().flatten() if issparse(matrix) else matrix[i, :]\n",
    "            vj = matrix[j, :].toarray().flatten() if issparse(matrix) else matrix[j, :]\n",
    "            mi_matrix[i, j] = compute_pairwise_mi(vi, vj, nbins=nbins)\n",
    "            if i != j:\n",
    "                mi_matrix[j, i] = mi_matrix[i, j]  # Exploit symmetry\n",
    "    return mi_matrix\n"
   ]
  },
  {
   "cell_type": "code",
   "execution_count": 2,
   "metadata": {},
   "outputs": [],
   "source": [
    "from scipy.sparse import random as sparse_random\n",
    "from scipy.io import mmwrite\n",
    "\n",
    "# Generate a sparse random matrix with 1000 rows and 5000 columns\n",
    "# Density of the matrix is set to 0.01 (1% non-zero elements)\n",
    "sparse_matrix = sparse_random(10, 50, density=0.01, format='csr')\n",
    "\n",
    "# Checking the matrix shape\n",
    "sparse_matrix.shape\n",
    "\n",
    "mmwrite(\"sparse_matrix.mtx\", sparse_matrix)"
   ]
  },
  {
   "cell_type": "code",
   "execution_count": 3,
   "metadata": {},
   "outputs": [
    {
     "name": "stdout",
     "output_type": "stream",
     "text": [
      "[[1.06468835e-05 1.06468835e-05 1.06468835e-05 1.06468835e-05\n",
      "  1.01435288e-05 1.03951442e-05 1.06468835e-05 1.06468835e-05\n",
      "  1.06468835e-05 1.01435288e-05]\n",
      " [1.06468835e-05 1.06468835e-05 1.06468835e-05 1.06468835e-05\n",
      "  1.01435288e-05 1.03951442e-05 1.06468835e-05 1.06468835e-05\n",
      "  1.06468835e-05 1.01435288e-05]\n",
      " [1.06468835e-05 1.06468835e-05 1.06468835e-05 1.06468835e-05\n",
      "  1.01435288e-05 1.03951442e-05 1.06468835e-05 1.06468835e-05\n",
      "  1.06468835e-05 1.01435288e-05]\n",
      " [1.06468835e-05 1.06468835e-05 1.06468835e-05 1.06468835e-05\n",
      "  1.01435288e-05 1.03951442e-05 1.06468835e-05 1.06468835e-05\n",
      "  1.06468835e-05 1.01435288e-05]\n",
      " [1.01435288e-05 1.01435288e-05 1.01435288e-05 1.01435288e-05\n",
      "  2.82301829e-01 1.19995422e-03 1.01435288e-05 1.01435288e-05\n",
      "  1.01435288e-05 1.42051349e-01]\n",
      " [1.03951442e-05 1.03951442e-05 1.03951442e-05 1.03951442e-05\n",
      "  1.19995422e-03 1.41450686e-01 1.03951442e-05 1.03951442e-05\n",
      "  1.03951442e-05 1.19995422e-03]\n",
      " [1.06468835e-05 1.06468835e-05 1.06468835e-05 1.06468835e-05\n",
      "  1.01435288e-05 1.03951442e-05 1.06468835e-05 1.06468835e-05\n",
      "  1.06468835e-05 1.01435288e-05]\n",
      " [1.06468835e-05 1.06468835e-05 1.06468835e-05 1.06468835e-05\n",
      "  1.01435288e-05 1.03951442e-05 1.06468835e-05 1.06468835e-05\n",
      "  1.06468835e-05 1.01435288e-05]\n",
      " [1.06468835e-05 1.06468835e-05 1.06468835e-05 1.06468835e-05\n",
      "  1.01435288e-05 1.03951442e-05 1.06468835e-05 1.06468835e-05\n",
      "  1.06468835e-05 1.01435288e-05]\n",
      " [1.01435288e-05 1.01435288e-05 1.01435288e-05 1.01435288e-05\n",
      "  1.42051349e-01 1.19995422e-03 1.01435288e-05 1.01435288e-05\n",
      "  1.01435288e-05 2.82301829e-01]]\n"
     ]
    }
   ],
   "source": [
    "#from scipy.sparse import random as sparse_random\n",
    "#sparse_matrix = sparse_random(100, 1000, density=0.01, format='csr')  # Example sparse matrix\n",
    "mi_matrix = mutual_information_matrix_serial(sparse_matrix, nbins=20, n_jobs=-1)\n",
    "print(mi_matrix)"
   ]
  },
  {
   "cell_type": "code",
   "execution_count": 4,
   "metadata": {},
   "outputs": [],
   "source": [
    "from scipy.sparse import issparse\n",
    "from scipy.stats import entropy\n",
    "import numpy as np\n",
    "from joblib import Parallel, delayed\n",
    "\n",
    "def mutual_information_matrix_parallel(matrix, nbins=20, n_jobs=-1):\n",
    "    \"\"\"\n",
    "    Computes the mutual information matrix in parallel, working directly with sparse matrices,\n",
    "    and only computes the upper triangular part of the matrix.\n",
    "    \"\"\"\n",
    "    if not issparse(matrix):\n",
    "        matrix = matrix.tocsr()\n",
    "\n",
    "    n_features = matrix.shape[0]\n",
    "    mi_matrix = np.zeros((n_features, n_features))\n",
    "\n",
    "    def compute_pairwise_mi(i, j, matrix, nbins=20):\n",
    "        \"\"\"\n",
    "        Computes mutual information between row i and row j of the sparse matrix.\n",
    "        \"\"\"\n",
    "        vi = matrix[i, :].toarray().flatten() if issparse(matrix) else matrix[i, :]\n",
    "        vj = matrix[j, :].toarray().flatten() if issparse(matrix) else matrix[j, :]\n",
    "        \n",
    "        joint_counts, _, _ = np.histogram2d(vi, vj, bins=nbins)\n",
    "        if joint_counts.sum() == 0:\n",
    "            return 0  # No mutual information if no overlap\n",
    "        joint_prob = joint_counts / (joint_counts.sum() + 1e-8)\n",
    "\n",
    "        marginal_i = joint_prob.sum(axis=1) + 1e-8\n",
    "        marginal_j = joint_prob.sum(axis=0) + 1e-8\n",
    "\n",
    "        h_xy = entropy(joint_prob.flatten(), base=2)\n",
    "        h_x = entropy(marginal_i, base=2)\n",
    "        h_y = entropy(marginal_j, base=2)\n",
    "\n",
    "        return float(h_x + h_y - h_xy)\n",
    "\n",
    "    # Parallelizing the pairwise mutual information computation for the upper triangular matrix\n",
    "    jobs = [(i, j) for i in range(n_features) for j in range(i + 1, n_features)]\n",
    "    results = Parallel(n_jobs=n_jobs)(\n",
    "        delayed(compute_pairwise_mi)(i, j, matrix, nbins) for i, j in jobs\n",
    "    )\n",
    "\n",
    "    # Fill the upper triangular matrix with the results\n",
    "    for idx, (i, j) in enumerate(jobs):\n",
    "        mi_matrix[i, j] = results[idx]\n",
    "        mi_matrix[j, i] = results[idx]  # Exploit symmetry to avoid duplicate computation\n",
    "\n",
    "    return mi_matrix\n"
   ]
  },
  {
   "cell_type": "code",
   "execution_count": 5,
   "metadata": {},
   "outputs": [
    {
     "name": "stdout",
     "output_type": "stream",
     "text": [
      "[[0.00000000e+00 1.06468835e-05 1.06468835e-05 1.06468835e-05\n",
      "  1.01435288e-05 1.03951442e-05 1.06468835e-05 1.06468835e-05\n",
      "  1.06468835e-05 1.01435288e-05]\n",
      " [1.06468835e-05 0.00000000e+00 1.06468835e-05 1.06468835e-05\n",
      "  1.01435288e-05 1.03951442e-05 1.06468835e-05 1.06468835e-05\n",
      "  1.06468835e-05 1.01435288e-05]\n",
      " [1.06468835e-05 1.06468835e-05 0.00000000e+00 1.06468835e-05\n",
      "  1.01435288e-05 1.03951442e-05 1.06468835e-05 1.06468835e-05\n",
      "  1.06468835e-05 1.01435288e-05]\n",
      " [1.06468835e-05 1.06468835e-05 1.06468835e-05 0.00000000e+00\n",
      "  1.01435288e-05 1.03951442e-05 1.06468835e-05 1.06468835e-05\n",
      "  1.06468835e-05 1.01435288e-05]\n",
      " [1.01435288e-05 1.01435288e-05 1.01435288e-05 1.01435288e-05\n",
      "  0.00000000e+00 1.19995422e-03 1.01435288e-05 1.01435288e-05\n",
      "  1.01435288e-05 1.42051349e-01]\n",
      " [1.03951442e-05 1.03951442e-05 1.03951442e-05 1.03951442e-05\n",
      "  1.19995422e-03 0.00000000e+00 1.03951442e-05 1.03951442e-05\n",
      "  1.03951442e-05 1.19995422e-03]\n",
      " [1.06468835e-05 1.06468835e-05 1.06468835e-05 1.06468835e-05\n",
      "  1.01435288e-05 1.03951442e-05 0.00000000e+00 1.06468835e-05\n",
      "  1.06468835e-05 1.01435288e-05]\n",
      " [1.06468835e-05 1.06468835e-05 1.06468835e-05 1.06468835e-05\n",
      "  1.01435288e-05 1.03951442e-05 1.06468835e-05 0.00000000e+00\n",
      "  1.06468835e-05 1.01435288e-05]\n",
      " [1.06468835e-05 1.06468835e-05 1.06468835e-05 1.06468835e-05\n",
      "  1.01435288e-05 1.03951442e-05 1.06468835e-05 1.06468835e-05\n",
      "  0.00000000e+00 1.01435288e-05]\n",
      " [1.01435288e-05 1.01435288e-05 1.01435288e-05 1.01435288e-05\n",
      "  1.42051349e-01 1.19995422e-03 1.01435288e-05 1.01435288e-05\n",
      "  1.01435288e-05 0.00000000e+00]]\n"
     ]
    }
   ],
   "source": [
    "#from scipy.sparse import random as sparse_random\n",
    "mi_matrix = mutual_information_matrix_parallel(sparse_matrix, nbins=20, n_jobs=-1)\n",
    "print(mi_matrix)\n"
   ]
  },
  {
   "cell_type": "code",
   "execution_count": 6,
   "metadata": {},
   "outputs": [],
   "source": [
    "from scipy.sparse import csr_matrix\n",
    "mi_matrix_sparse = csr_matrix(mi_matrix)\n",
    "\n",
    "mmwrite(\"mi_matrix.mtx\", mi_matrix_sparse)"
   ]
  },
  {
   "cell_type": "code",
   "execution_count": 7,
   "metadata": {},
   "outputs": [
    {
     "data": {
      "text/plain": [
       "(10, 10)"
      ]
     },
     "execution_count": 7,
     "metadata": {},
     "output_type": "execute_result"
    }
   ],
   "source": [
    "mi_matrix.shape"
   ]
  },
  {
   "cell_type": "code",
   "execution_count": 11,
   "metadata": {},
   "outputs": [
    {
     "ename": "AttributeError",
     "evalue": "'list' object has no attribute 'tocsr'",
     "output_type": "error",
     "traceback": [
      "\u001b[1;31m---------------------------------------------------------------------------\u001b[0m",
      "\u001b[1;31mAttributeError\u001b[0m                            Traceback (most recent call last)",
      "Cell \u001b[1;32mIn[11], line 4\u001b[0m\n\u001b[0;32m      2\u001b[0m vec2 \u001b[38;5;241m=\u001b[39m [\u001b[38;5;241m4\u001b[39m, \u001b[38;5;241m0\u001b[39m, \u001b[38;5;241m6\u001b[39m, \u001b[38;5;241m0\u001b[39m, \u001b[38;5;241m0\u001b[39m]  \u001b[38;5;66;03m# Row 1\u001b[39;00m\n\u001b[0;32m      3\u001b[0m matrix \u001b[38;5;241m=\u001b[39m [ vec1 , vec2]\n\u001b[1;32m----> 4\u001b[0m mi_matrix \u001b[38;5;241m=\u001b[39m \u001b[43mmutual_information_matrix_serial\u001b[49m\u001b[43m(\u001b[49m\u001b[43mmatrix\u001b[49m\u001b[43m,\u001b[49m\u001b[43m \u001b[49m\u001b[43mnbins\u001b[49m\u001b[38;5;241;43m=\u001b[39;49m\u001b[38;5;241;43m20\u001b[39;49m\u001b[43m,\u001b[49m\u001b[43m \u001b[49m\u001b[43mn_jobs\u001b[49m\u001b[38;5;241;43m=\u001b[39;49m\u001b[38;5;241;43m-\u001b[39;49m\u001b[38;5;241;43m1\u001b[39;49m\u001b[43m)\u001b[49m\n",
      "Cell \u001b[1;32mIn[1], line 12\u001b[0m, in \u001b[0;36mmutual_information_matrix_serial\u001b[1;34m(matrix, nbins, n_jobs)\u001b[0m\n\u001b[0;32m      7\u001b[0m \u001b[38;5;250m\u001b[39m\u001b[38;5;124;03m\"\"\"\u001b[39;00m\n\u001b[0;32m      8\u001b[0m \u001b[38;5;124;03mComputes the mutual information matrix in parallel, working directly with sparse matrices,\u001b[39;00m\n\u001b[0;32m      9\u001b[0m \u001b[38;5;124;03mand only computes the upper triangular part of the matrix.\u001b[39;00m\n\u001b[0;32m     10\u001b[0m \u001b[38;5;124;03m\"\"\"\u001b[39;00m\n\u001b[0;32m     11\u001b[0m \u001b[38;5;28;01mif\u001b[39;00m \u001b[38;5;129;01mnot\u001b[39;00m issparse(matrix):\n\u001b[1;32m---> 12\u001b[0m     matrix \u001b[38;5;241m=\u001b[39m \u001b[43mmatrix\u001b[49m\u001b[38;5;241;43m.\u001b[39;49m\u001b[43mtocsr\u001b[49m()\n\u001b[0;32m     14\u001b[0m n_features \u001b[38;5;241m=\u001b[39m matrix\u001b[38;5;241m.\u001b[39mshape[\u001b[38;5;241m0\u001b[39m]\n\u001b[0;32m     15\u001b[0m mi_matrix \u001b[38;5;241m=\u001b[39m np\u001b[38;5;241m.\u001b[39mzeros((n_features, n_features))\n",
      "\u001b[1;31mAttributeError\u001b[0m: 'list' object has no attribute 'tocsr'"
     ]
    }
   ],
   "source": [
    "vec1 = [1, 2, 3, 0, 0]  # Row 0\n",
    "vec2 = [4, 0, 6, 0, 0]  # Row 1\n",
    "matrix = [ vec1 , vec2]\n",
    "mi_matrix = mutual_information_matrix_serial(matrix, nbins=20, n_jobs=-1)\n",
    "\n",
    "\n"
   ]
  },
  {
   "cell_type": "code",
   "execution_count": 9,
   "metadata": {},
   "outputs": [
    {
     "data": {
      "text/plain": [
       "array([[1.06468835e-05, 1.06468835e-05, 1.06468835e-05, 1.06468835e-05,\n",
       "        1.01435288e-05, 1.03951442e-05, 1.06468835e-05, 1.06468835e-05,\n",
       "        1.06468835e-05, 1.01435288e-05],\n",
       "       [1.06468835e-05, 1.06468835e-05, 1.06468835e-05, 1.06468835e-05,\n",
       "        1.01435288e-05, 1.03951442e-05, 1.06468835e-05, 1.06468835e-05,\n",
       "        1.06468835e-05, 1.01435288e-05],\n",
       "       [1.06468835e-05, 1.06468835e-05, 1.06468835e-05, 1.06468835e-05,\n",
       "        1.01435288e-05, 1.03951442e-05, 1.06468835e-05, 1.06468835e-05,\n",
       "        1.06468835e-05, 1.01435288e-05],\n",
       "       [1.06468835e-05, 1.06468835e-05, 1.06468835e-05, 1.06468835e-05,\n",
       "        1.01435288e-05, 1.03951442e-05, 1.06468835e-05, 1.06468835e-05,\n",
       "        1.06468835e-05, 1.01435288e-05],\n",
       "       [1.01435288e-05, 1.01435288e-05, 1.01435288e-05, 1.01435288e-05,\n",
       "        2.82301829e-01, 1.19995422e-03, 1.01435288e-05, 1.01435288e-05,\n",
       "        1.01435288e-05, 1.42051349e-01],\n",
       "       [1.03951442e-05, 1.03951442e-05, 1.03951442e-05, 1.03951442e-05,\n",
       "        1.19995422e-03, 1.41450686e-01, 1.03951442e-05, 1.03951442e-05,\n",
       "        1.03951442e-05, 1.19995422e-03],\n",
       "       [1.06468835e-05, 1.06468835e-05, 1.06468835e-05, 1.06468835e-05,\n",
       "        1.01435288e-05, 1.03951442e-05, 1.06468835e-05, 1.06468835e-05,\n",
       "        1.06468835e-05, 1.01435288e-05],\n",
       "       [1.06468835e-05, 1.06468835e-05, 1.06468835e-05, 1.06468835e-05,\n",
       "        1.01435288e-05, 1.03951442e-05, 1.06468835e-05, 1.06468835e-05,\n",
       "        1.06468835e-05, 1.01435288e-05],\n",
       "       [1.06468835e-05, 1.06468835e-05, 1.06468835e-05, 1.06468835e-05,\n",
       "        1.01435288e-05, 1.03951442e-05, 1.06468835e-05, 1.06468835e-05,\n",
       "        1.06468835e-05, 1.01435288e-05],\n",
       "       [1.01435288e-05, 1.01435288e-05, 1.01435288e-05, 1.01435288e-05,\n",
       "        1.42051349e-01, 1.19995422e-03, 1.01435288e-05, 1.01435288e-05,\n",
       "        1.01435288e-05, 2.82301829e-01]])"
      ]
     },
     "execution_count": 9,
     "metadata": {},
     "output_type": "execute_result"
    }
   ],
   "source": [
    "mi_matrix"
   ]
  },
  {
   "cell_type": "code",
   "execution_count": null,
   "metadata": {},
   "outputs": [],
   "source": []
  }
 ],
 "metadata": {
  "kernelspec": {
   "display_name": "qnn-env",
   "language": "python",
   "name": "python3"
  },
  "language_info": {
   "codemirror_mode": {
    "name": "ipython",
    "version": 3
   },
   "file_extension": ".py",
   "mimetype": "text/x-python",
   "name": "python",
   "nbconvert_exporter": "python",
   "pygments_lexer": "ipython3",
   "version": "3.11.11"
  }
 },
 "nbformat": 4,
 "nbformat_minor": 2
}
