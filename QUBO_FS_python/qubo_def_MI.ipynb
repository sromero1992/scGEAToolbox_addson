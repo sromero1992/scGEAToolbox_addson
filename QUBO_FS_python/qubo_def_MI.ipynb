{
 "cells": [
  {
   "cell_type": "code",
   "execution_count": 39,
   "metadata": {},
   "outputs": [],
   "source": [
    "import numpy as np\n",
    "from scipy.stats import entropy\n",
    "from scipy.sparse import issparse\n",
    "from joblib import Parallel, delayed\n",
    "\n",
    "def mutual_information_matrix_serial(matrix, nbins=20, n_jobs=-1):\n",
    "    \"\"\"\n",
    "    Computes the mutual information matrix in parallel, working directly with sparse matrices,\n",
    "    and only computes the upper triangular part of the matrix.\n",
    "    \"\"\"\n",
    "    if not issparse(matrix):\n",
    "        matrix = matrix.tocsr()\n",
    "\n",
    "    n_features = matrix.shape[0]\n",
    "    mi_matrix = np.zeros((n_features, n_features))\n",
    "\n",
    "    def compute_pairwise_mi(vi, vj, nbins=20):\n",
    "        joint_counts, _, _ = np.histogram2d(vi, vj, bins=nbins)\n",
    "        if joint_counts.sum() == 0:\n",
    "            return 0  # No mutual information if no overlap\n",
    "        joint_prob = joint_counts / (joint_counts.sum() + 1e-8)\n",
    "\n",
    "        marginal_i = joint_prob.sum(axis=1) + 1e-8\n",
    "        marginal_j = joint_prob.sum(axis=0) + 1e-8\n",
    "\n",
    "        h_xy = entropy(joint_prob.flatten(), base=2)\n",
    "        h_x = entropy(marginal_i, base=2)\n",
    "        h_y = entropy(marginal_j, base=2)\n",
    "\n",
    "        return float(h_x + h_y - h_xy)\n",
    "\n",
    "    for i in range(n_features):\n",
    "        for j in range(i, n_features):\n",
    "            vi = matrix[i, :].toarray().flatten() if issparse(matrix) else matrix[i, :]\n",
    "            vj = matrix[j, :].toarray().flatten() if issparse(matrix) else matrix[j, :]\n",
    "            mi_matrix[i, j] = compute_pairwise_mi(vi, vj, nbins=nbins)\n",
    "            if i != j:\n",
    "                mi_matrix[j, i] = mi_matrix[i, j]  # Exploit symmetry\n",
    "    return mi_matrix\n"
   ]
  },
  {
   "cell_type": "code",
   "execution_count": 40,
   "metadata": {},
   "outputs": [],
   "source": [
    "from scipy.sparse import random as sparse_random\n",
    "from scipy.io import mmwrite\n",
    "\n",
    "# Generate a sparse random matrix with 1000 rows and 5000 columns\n",
    "# Density of the matrix is set to 0.01 (1% non-zero elements)\n",
    "sparse_matrix = sparse_random(10, 50, density=0.01, format='csr')\n",
    "\n",
    "# Checking the matrix shape\n",
    "sparse_matrix.shape\n",
    "\n",
    "mmwrite(\"sparse_matrix.mtx\", sparse_matrix)"
   ]
  },
  {
   "cell_type": "code",
   "execution_count": 41,
   "metadata": {},
   "outputs": [
    {
     "name": "stdout",
     "output_type": "stream",
     "text": [
      "[[1.06468835e-05 1.06468835e-05 1.06468835e-05 1.06468835e-05\n",
      "  1.06468835e-05 1.03951442e-05 1.03951442e-05 1.03951442e-05\n",
      "  1.03951442e-05 1.06468835e-05]\n",
      " [1.06468835e-05 1.06468835e-05 1.06468835e-05 1.06468835e-05\n",
      "  1.06468835e-05 1.03951442e-05 1.03951442e-05 1.03951442e-05\n",
      "  1.03951442e-05 1.06468835e-05]\n",
      " [1.06468835e-05 1.06468835e-05 1.06468835e-05 1.06468835e-05\n",
      "  1.06468835e-05 1.03951442e-05 1.03951442e-05 1.03951442e-05\n",
      "  1.03951442e-05 1.06468835e-05]\n",
      " [1.06468835e-05 1.06468835e-05 1.06468835e-05 1.06468835e-05\n",
      "  1.06468835e-05 1.03951442e-05 1.03951442e-05 1.03951442e-05\n",
      "  1.03951442e-05 1.06468835e-05]\n",
      " [1.06468835e-05 1.06468835e-05 1.06468835e-05 1.06468835e-05\n",
      "  1.06468835e-05 1.03951442e-05 1.03951442e-05 1.03951442e-05\n",
      "  1.03951442e-05 1.06468835e-05]\n",
      " [1.03951442e-05 1.03951442e-05 1.03951442e-05 1.03951442e-05\n",
      "  1.03951442e-05 1.41450686e-01 5.99039406e-04 5.99039406e-04\n",
      "  5.99039406e-04 1.03951442e-05]\n",
      " [1.03951442e-05 1.03951442e-05 1.03951442e-05 1.03951442e-05\n",
      "  1.03951442e-05 5.99039406e-04 1.41450686e-01 5.99039406e-04\n",
      "  5.99039406e-04 1.03951442e-05]\n",
      " [1.03951442e-05 1.03951442e-05 1.03951442e-05 1.03951442e-05\n",
      "  1.03951442e-05 5.99039406e-04 5.99039406e-04 1.41450686e-01\n",
      "  5.99039406e-04 1.03951442e-05]\n",
      " [1.03951442e-05 1.03951442e-05 1.03951442e-05 1.03951442e-05\n",
      "  1.03951442e-05 5.99039406e-04 5.99039406e-04 5.99039406e-04\n",
      "  1.41450686e-01 1.03951442e-05]\n",
      " [1.06468835e-05 1.06468835e-05 1.06468835e-05 1.06468835e-05\n",
      "  1.06468835e-05 1.03951442e-05 1.03951442e-05 1.03951442e-05\n",
      "  1.03951442e-05 1.06468835e-05]]\n"
     ]
    }
   ],
   "source": [
    "#from scipy.sparse import random as sparse_random\n",
    "#sparse_matrix = sparse_random(100, 1000, density=0.01, format='csr')  # Example sparse matrix\n",
    "mi_matrix = mutual_information_matrix_serial(sparse_matrix, nbins=20, n_jobs=-1)\n",
    "print(mi_matrix)"
   ]
  },
  {
   "cell_type": "code",
   "execution_count": 42,
   "metadata": {},
   "outputs": [],
   "source": [
    "from scipy.sparse import issparse\n",
    "from scipy.stats import entropy\n",
    "import numpy as np\n",
    "from joblib import Parallel, delayed\n",
    "\n",
    "def mutual_information_matrix_parallel(matrix, nbins=20, n_jobs=-1):\n",
    "    \"\"\"\n",
    "    Computes the mutual information matrix in parallel, working directly with sparse matrices,\n",
    "    and only computes the upper triangular part of the matrix.\n",
    "    \"\"\"\n",
    "    if not issparse(matrix):\n",
    "        matrix = matrix.tocsr()\n",
    "\n",
    "    n_features = matrix.shape[0]\n",
    "    mi_matrix = np.zeros((n_features, n_features))\n",
    "\n",
    "    def compute_pairwise_mi(i, j, matrix, nbins=20):\n",
    "        \"\"\"\n",
    "        Computes mutual information between row i and row j of the sparse matrix.\n",
    "        \"\"\"\n",
    "        vi = matrix[i, :].toarray().flatten() if issparse(matrix) else matrix[i, :]\n",
    "        vj = matrix[j, :].toarray().flatten() if issparse(matrix) else matrix[j, :]\n",
    "        \n",
    "        joint_counts, _, _ = np.histogram2d(vi, vj, bins=nbins)\n",
    "        if joint_counts.sum() == 0:\n",
    "            return 0  # No mutual information if no overlap\n",
    "        joint_prob = joint_counts / (joint_counts.sum() + 1e-8)\n",
    "\n",
    "        marginal_i = joint_prob.sum(axis=1) + 1e-8\n",
    "        marginal_j = joint_prob.sum(axis=0) + 1e-8\n",
    "\n",
    "        h_xy = entropy(joint_prob.flatten(), base=2)\n",
    "        h_x = entropy(marginal_i, base=2)\n",
    "        h_y = entropy(marginal_j, base=2)\n",
    "\n",
    "        return float(h_x + h_y - h_xy)\n",
    "\n",
    "    # Parallelizing the pairwise mutual information computation for the upper triangular matrix\n",
    "    jobs = [(i, j) for i in range(n_features) for j in range(i + 1, n_features)]\n",
    "    results = Parallel(n_jobs=n_jobs)(\n",
    "        delayed(compute_pairwise_mi)(i, j, matrix, nbins) for i, j in jobs\n",
    "    )\n",
    "\n",
    "    # Fill the upper triangular matrix with the results\n",
    "    for idx, (i, j) in enumerate(jobs):\n",
    "        mi_matrix[i, j] = results[idx]\n",
    "        mi_matrix[j, i] = results[idx]  # Exploit symmetry to avoid duplicate computation\n",
    "\n",
    "    return mi_matrix\n"
   ]
  },
  {
   "cell_type": "code",
   "execution_count": 43,
   "metadata": {},
   "outputs": [
    {
     "name": "stdout",
     "output_type": "stream",
     "text": [
      "[[0.00000000e+00 1.06468835e-05 1.06468835e-05 1.06468835e-05\n",
      "  1.06468835e-05 1.03951442e-05 1.03951442e-05 1.03951442e-05\n",
      "  1.03951442e-05 1.06468835e-05]\n",
      " [1.06468835e-05 0.00000000e+00 1.06468835e-05 1.06468835e-05\n",
      "  1.06468835e-05 1.03951442e-05 1.03951442e-05 1.03951442e-05\n",
      "  1.03951442e-05 1.06468835e-05]\n",
      " [1.06468835e-05 1.06468835e-05 0.00000000e+00 1.06468835e-05\n",
      "  1.06468835e-05 1.03951442e-05 1.03951442e-05 1.03951442e-05\n",
      "  1.03951442e-05 1.06468835e-05]\n",
      " [1.06468835e-05 1.06468835e-05 1.06468835e-05 0.00000000e+00\n",
      "  1.06468835e-05 1.03951442e-05 1.03951442e-05 1.03951442e-05\n",
      "  1.03951442e-05 1.06468835e-05]\n",
      " [1.06468835e-05 1.06468835e-05 1.06468835e-05 1.06468835e-05\n",
      "  0.00000000e+00 1.03951442e-05 1.03951442e-05 1.03951442e-05\n",
      "  1.03951442e-05 1.06468835e-05]\n",
      " [1.03951442e-05 1.03951442e-05 1.03951442e-05 1.03951442e-05\n",
      "  1.03951442e-05 0.00000000e+00 5.99039406e-04 5.99039406e-04\n",
      "  5.99039406e-04 1.03951442e-05]\n",
      " [1.03951442e-05 1.03951442e-05 1.03951442e-05 1.03951442e-05\n",
      "  1.03951442e-05 5.99039406e-04 0.00000000e+00 5.99039406e-04\n",
      "  5.99039406e-04 1.03951442e-05]\n",
      " [1.03951442e-05 1.03951442e-05 1.03951442e-05 1.03951442e-05\n",
      "  1.03951442e-05 5.99039406e-04 5.99039406e-04 0.00000000e+00\n",
      "  5.99039406e-04 1.03951442e-05]\n",
      " [1.03951442e-05 1.03951442e-05 1.03951442e-05 1.03951442e-05\n",
      "  1.03951442e-05 5.99039406e-04 5.99039406e-04 5.99039406e-04\n",
      "  0.00000000e+00 1.03951442e-05]\n",
      " [1.06468835e-05 1.06468835e-05 1.06468835e-05 1.06468835e-05\n",
      "  1.06468835e-05 1.03951442e-05 1.03951442e-05 1.03951442e-05\n",
      "  1.03951442e-05 0.00000000e+00]]\n"
     ]
    }
   ],
   "source": [
    "#from scipy.sparse import random as sparse_random\n",
    "mi_matrix = mutual_information_matrix_parallel(sparse_matrix, nbins=20, n_jobs=-1)\n",
    "print(mi_matrix)\n"
   ]
  },
  {
   "cell_type": "code",
   "execution_count": 38,
   "metadata": {},
   "outputs": [],
   "source": [
    "from scipy.sparse import csr_matrix\n",
    "mi_matrix_sparse = csr_matrix(mi_matrix)\n",
    "\n",
    "mmwrite(\"mi_matrix.mtx\", mi_matrix_sparse)"
   ]
  },
  {
   "cell_type": "code",
   "execution_count": 49,
   "metadata": {},
   "outputs": [
    {
     "data": {
      "text/plain": [
       "(10, 10)"
      ]
     },
     "execution_count": 49,
     "metadata": {},
     "output_type": "execute_result"
    }
   ],
   "source": [
    "mi_matrix.shape"
   ]
  },
  {
   "cell_type": "code",
   "execution_count": null,
   "metadata": {},
   "outputs": [],
   "source": []
  }
 ],
 "metadata": {
  "kernelspec": {
   "display_name": "qiskit-env",
   "language": "python",
   "name": "python3"
  },
  "language_info": {
   "codemirror_mode": {
    "name": "ipython",
    "version": 3
   },
   "file_extension": ".py",
   "mimetype": "text/x-python",
   "name": "python",
   "nbconvert_exporter": "python",
   "pygments_lexer": "ipython3",
   "version": "3.11.11"
  }
 },
 "nbformat": 4,
 "nbformat_minor": 2
}
