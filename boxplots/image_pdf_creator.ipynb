{
 "cells": [
  {
   "cell_type": "code",
   "execution_count": 35,
   "metadata": {},
   "outputs": [
    {
     "name": "stdout",
     "output_type": "stream",
     "text": [
      "PDF created successfully: C:\\Users\\selim\\Documents\\python_scripts\\boxplots\\all_boxplots.pdf\n"
     ]
    }
   ],
   "source": [
    "import os\n",
    "from PIL import Image\n",
    "import img2pdf\n",
    "\n",
    "main_path = \"C:\\\\Users\\\\selim\\\\Documents\\\\python_scripts\\\\boxplots\"\n",
    "os.chdir(main_path)\n",
    "\n",
    "sub_dirs = [ f.path for f in os.scandir(main_path) if f.is_dir() ]\n",
    "\n",
    "images = []\n",
    "for idir in sub_dirs:\n",
    "    for _, _, files in os.walk(idir):\n",
    "        for filename in files:\n",
    "            if filename.lower().endswith((\".jpg\", \".jpeg\", \".png\", \".jng\")):\n",
    "                #print(\"Dir \"+idir + \" file \" + filename)\n",
    "                os.path.join(idir,filename)\n",
    "                #print(image_path)\n",
    "                images.append(Image.open(image_path))\n",
    "\n",
    "pdf_path = os.path.join(main_path, \"all_boxplots.pdf\")\n",
    "#img2pdf.convert(images, pdf_path)\n",
    "print(f\"PDF created successfully: {pdf_path}\")\n",
    "\n",
    "images[0].save(\n",
    "    pdf_path, \"PDF\" ,resolution=100.0, save_all=True, append_images=images[1:]\n",
    ")"
   ]
  },
  {
   "cell_type": "code",
   "execution_count": 42,
   "metadata": {},
   "outputs": [
    {
     "name": "stdout",
     "output_type": "stream",
     "text": [
      "PDF created successfully: C:\\Users\\selim\\Documents\\python_scripts\\boxplots\\all_boxplots.pdf\n"
     ]
    }
   ],
   "source": [
    "import os\n",
    "from PIL import Image\n",
    "from fpdf import FPDF\n",
    "\n",
    "main_path = \"C:\\\\Users\\\\selim\\\\Documents\\\\python_scripts\\\\boxplots\"\n",
    "\n",
    "sub_dirs = [f.path for f in os.scandir(main_path) if f.is_dir()]\n",
    "pdf = FPDF()  # Create a new FPDF object\n",
    "\n",
    "for idir in sub_dirs:\n",
    "    for _, _, files in os.walk(idir):\n",
    "        for filename in files:\n",
    "            if filename.lower().endswith((\".jpg\", \".jpeg\", \".png\", \".jng\")):\n",
    "                image_path = os.path.join(idir, filename)\n",
    "                pdf.add_page()  # Add a new page before each image\n",
    "                pdf.image(image_path, w=200, h=100)  # Add image with width and height\n",
    "\n",
    "pdf_path = os.path.join(main_path, \"all_boxplots.pdf\")\n",
    "pdf.output(pdf_path)\n",
    "print(f\"PDF created successfully: {pdf_path}\")"
   ]
  },
  {
   "cell_type": "code",
   "execution_count": 1,
   "metadata": {},
   "outputs": [
    {
     "name": "stdout",
     "output_type": "stream",
     "text": [
      "Samples 1_negative_control  VS. 2_scramble_control0\n",
      "Samples 2_scramble_control VS. 3_siNR4A11\n",
      "Samples 2_scramble_control VS. 4_siNR4A22\n",
      "Samples 2_scramble_control VS. 5_siNR4A1-siNR4A23\n",
      "Samples 6_DMSO_control  VS.  1_negative_control4\n",
      "Samples 6_DMSO_control  VS.  7_DMSO_3_4-Cl2_6hr5\n",
      "Samples 6_DMSO_control  VS.  8_DMSO_3_4-Cl2_24hr6\n",
      "PDF created successfully: C:\\Users\\ssromerogon\\Documents\\Safe_Lydia_SW480_cell_line\\boxplots\\all_boxplots.pdf\n"
     ]
    }
   ],
   "source": [
    "import os\n",
    "from PIL import Image\n",
    "from fpdf import FPDF\n",
    "\n",
    "labels = [\"1_negative_control  VS. 2_scramble_control\", \"2_scramble_control VS. 3_siNR4A1\", \\\n",
    "          \"2_scramble_control VS. 4_siNR4A2\", \"2_scramble_control VS. 5_siNR4A1-siNR4A2\", \\\n",
    "          \"6_DMSO_control  VS.  1_negative_control\", \"6_DMSO_control  VS.  7_DMSO_3_4-Cl2_6hr\", \\\n",
    "          \"6_DMSO_control  VS.  8_DMSO_3_4-Cl2_24hr\"] \n",
    "\n",
    "main_path = \"C:\\\\Users\\\\ssromerogon\\\\Documents\\\\Safe_Lydia_SW480_cell_line\\\\boxplots\"\n",
    "\n",
    "sub_dirs = [f.path for f in os.scandir(main_path) if f.is_dir()]\n",
    "pdf = FPDF()\n",
    "\n",
    "margin = 10  # Adjust margin as needed\n",
    "k = 0\n",
    "for idir in sub_dirs:\n",
    "    \n",
    "    if idir == \".ipynb_checkpoints\" :\n",
    "        continue\n",
    "    # --- Text Page Content ---\n",
    "    # Open the text file and read its content\n",
    "    pdf.add_page()\n",
    "    text_content = \"Samples \" + labels[k]\n",
    "    print(text_content + str(k))\n",
    "    k = k + 1\n",
    "    # Add text to the page (adjust font, size, and position as needed)\n",
    "    pdf.set_font(family='Arial', size=20)\n",
    "    pdf.multi_cell(w=200, h=200, txt=text_content)\n",
    "    # --- End Text Page Content ---\n",
    "    \n",
    "    for _, _, files in os.walk(idir):\n",
    "        for filename in files:\n",
    "            if filename.lower().endswith((\".jpg\", \".jpeg\", \".png\", \".jng\")):\n",
    "                image_path = os.path.join(idir, filename)\n",
    "\n",
    "                # Open the image and get its width and height\n",
    "                image = Image.open(image_path)\n",
    "                image_width, image_height = image.size\n",
    "\n",
    "                # Calculate available space for an image within margins\n",
    "                available_width = pdf.w - 2 * margin\n",
    "                available_height = pdf.h - 2 * margin\n",
    "                \n",
    "                # Determine scaling factor (fit image within available space)\n",
    "                x_scale = available_width / image_width\n",
    "                y_scale = available_height / image_height\n",
    "                scale = min(x_scale, y_scale)  # Use the smaller scaling factor\n",
    "\n",
    "                # Adjust margins and font size based on scaling\n",
    "                pdf.set_margins(margin, margin)\n",
    "                pdf.set_font(\"Arial\", size=int(8 * scale))  # Adjust font size proportionally\n",
    "\n",
    "                pdf.add_page()  # Add a new page\n",
    "\n",
    "                # Place the image with calculated scaling\n",
    "                pdf.image(image_path, w=image_width * scale, h=image_height * scale)\n",
    "                \n",
    "\n",
    "pdf_path = os.path.join(main_path, \"all_boxplots.pdf\")\n",
    "pdf.output(pdf_path)\n",
    "print(f\"PDF created successfully: {pdf_path}\")"
   ]
  },
  {
   "cell_type": "code",
   "execution_count": null,
   "metadata": {},
   "outputs": [],
   "source": []
  }
 ],
 "metadata": {
  "kernelspec": {
   "display_name": "Python 3 (ipykernel)",
   "language": "python",
   "name": "python3"
  },
  "language_info": {
   "codemirror_mode": {
    "name": "ipython",
    "version": 3
   },
   "file_extension": ".py",
   "mimetype": "text/x-python",
   "name": "python",
   "nbconvert_exporter": "python",
   "pygments_lexer": "ipython3",
   "version": "3.9.18"
  }
 },
 "nbformat": 4,
 "nbformat_minor": 4
}
